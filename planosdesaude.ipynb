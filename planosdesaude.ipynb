{
 "cells": [
  {
   "cell_type": "markdown",
   "id": "b3ed4329",
   "metadata": {},
   "source": [
    "## Análise sobre gastos de plano de sáude "
   ]
  },
  {
   "cell_type": "markdown",
   "id": "87595cc8",
   "metadata": {},
   "source": [
    "dados retidados do link: https://www.kaggle.com/datasets/mirichoi0218/insurance"
   ]
  },
  {
   "cell_type": "code",
   "execution_count": 1,
   "id": "096f755d",
   "metadata": {},
   "outputs": [],
   "source": [
    "#imports de libs usadas na análise\n",
    "import pandas as pd\n",
    "import numpy as np\n",
    "import matplotlib.pyplot as plt\n",
    "import seaborn as sns"
   ]
  },
  {
   "cell_type": "code",
   "execution_count": 2,
   "id": "da077939",
   "metadata": {},
   "outputs": [
    {
     "data": {
      "text/html": [
       "<div>\n",
       "<style scoped>\n",
       "    .dataframe tbody tr th:only-of-type {\n",
       "        vertical-align: middle;\n",
       "    }\n",
       "\n",
       "    .dataframe tbody tr th {\n",
       "        vertical-align: top;\n",
       "    }\n",
       "\n",
       "    .dataframe thead th {\n",
       "        text-align: right;\n",
       "    }\n",
       "</style>\n",
       "<table border=\"1\" class=\"dataframe\">\n",
       "  <thead>\n",
       "    <tr style=\"text-align: right;\">\n",
       "      <th></th>\n",
       "      <th>age</th>\n",
       "      <th>sex</th>\n",
       "      <th>bmi</th>\n",
       "      <th>children</th>\n",
       "      <th>smoker</th>\n",
       "      <th>region</th>\n",
       "      <th>charges</th>\n",
       "    </tr>\n",
       "  </thead>\n",
       "  <tbody>\n",
       "    <tr>\n",
       "      <th>0</th>\n",
       "      <td>19</td>\n",
       "      <td>female</td>\n",
       "      <td>27.900</td>\n",
       "      <td>0</td>\n",
       "      <td>yes</td>\n",
       "      <td>southwest</td>\n",
       "      <td>16884.92400</td>\n",
       "    </tr>\n",
       "    <tr>\n",
       "      <th>1</th>\n",
       "      <td>18</td>\n",
       "      <td>male</td>\n",
       "      <td>33.770</td>\n",
       "      <td>1</td>\n",
       "      <td>no</td>\n",
       "      <td>southeast</td>\n",
       "      <td>1725.55230</td>\n",
       "    </tr>\n",
       "    <tr>\n",
       "      <th>2</th>\n",
       "      <td>28</td>\n",
       "      <td>male</td>\n",
       "      <td>33.000</td>\n",
       "      <td>3</td>\n",
       "      <td>no</td>\n",
       "      <td>southeast</td>\n",
       "      <td>4449.46200</td>\n",
       "    </tr>\n",
       "    <tr>\n",
       "      <th>3</th>\n",
       "      <td>33</td>\n",
       "      <td>male</td>\n",
       "      <td>22.705</td>\n",
       "      <td>0</td>\n",
       "      <td>no</td>\n",
       "      <td>northwest</td>\n",
       "      <td>21984.47061</td>\n",
       "    </tr>\n",
       "    <tr>\n",
       "      <th>4</th>\n",
       "      <td>32</td>\n",
       "      <td>male</td>\n",
       "      <td>28.880</td>\n",
       "      <td>0</td>\n",
       "      <td>no</td>\n",
       "      <td>northwest</td>\n",
       "      <td>3866.85520</td>\n",
       "    </tr>\n",
       "    <tr>\n",
       "      <th>5</th>\n",
       "      <td>31</td>\n",
       "      <td>female</td>\n",
       "      <td>25.740</td>\n",
       "      <td>0</td>\n",
       "      <td>no</td>\n",
       "      <td>southeast</td>\n",
       "      <td>3756.62160</td>\n",
       "    </tr>\n",
       "    <tr>\n",
       "      <th>6</th>\n",
       "      <td>46</td>\n",
       "      <td>female</td>\n",
       "      <td>33.440</td>\n",
       "      <td>1</td>\n",
       "      <td>no</td>\n",
       "      <td>southeast</td>\n",
       "      <td>8240.58960</td>\n",
       "    </tr>\n",
       "    <tr>\n",
       "      <th>7</th>\n",
       "      <td>37</td>\n",
       "      <td>female</td>\n",
       "      <td>27.740</td>\n",
       "      <td>3</td>\n",
       "      <td>no</td>\n",
       "      <td>northwest</td>\n",
       "      <td>7281.50560</td>\n",
       "    </tr>\n",
       "    <tr>\n",
       "      <th>8</th>\n",
       "      <td>37</td>\n",
       "      <td>male</td>\n",
       "      <td>29.830</td>\n",
       "      <td>2</td>\n",
       "      <td>no</td>\n",
       "      <td>northeast</td>\n",
       "      <td>6406.41070</td>\n",
       "    </tr>\n",
       "    <tr>\n",
       "      <th>9</th>\n",
       "      <td>60</td>\n",
       "      <td>female</td>\n",
       "      <td>25.840</td>\n",
       "      <td>0</td>\n",
       "      <td>no</td>\n",
       "      <td>northwest</td>\n",
       "      <td>28923.13692</td>\n",
       "    </tr>\n",
       "  </tbody>\n",
       "</table>\n",
       "</div>"
      ],
      "text/plain": [
       "   age     sex     bmi  children smoker     region      charges\n",
       "0   19  female  27.900         0    yes  southwest  16884.92400\n",
       "1   18    male  33.770         1     no  southeast   1725.55230\n",
       "2   28    male  33.000         3     no  southeast   4449.46200\n",
       "3   33    male  22.705         0     no  northwest  21984.47061\n",
       "4   32    male  28.880         0     no  northwest   3866.85520\n",
       "5   31  female  25.740         0     no  southeast   3756.62160\n",
       "6   46  female  33.440         1     no  southeast   8240.58960\n",
       "7   37  female  27.740         3     no  northwest   7281.50560\n",
       "8   37    male  29.830         2     no  northeast   6406.41070\n",
       "9   60  female  25.840         0     no  northwest  28923.13692"
      ]
     },
     "execution_count": 2,
     "metadata": {},
     "output_type": "execute_result"
    }
   ],
   "source": [
    "#impotando e lendo o dataset\n",
    "\n",
    "df = pd.read_csv(r'C:\\Users\\Lucas\\Desktop\\Projetos\\saude\\data\\insurance.csv')\n",
    "df.head(10) #mostrar as primeiras 10 linhas"
   ]
  },
  {
   "cell_type": "code",
   "execution_count": 3,
   "id": "822ab2a9",
   "metadata": {},
   "outputs": [
    {
     "name": "stdout",
     "output_type": "stream",
     "text": [
      "<class 'pandas.core.frame.DataFrame'>\n",
      "RangeIndex: 1338 entries, 0 to 1337\n",
      "Data columns (total 7 columns):\n",
      " #   Column    Non-Null Count  Dtype  \n",
      "---  ------    --------------  -----  \n",
      " 0   age       1338 non-null   int64  \n",
      " 1   sex       1338 non-null   object \n",
      " 2   bmi       1338 non-null   float64\n",
      " 3   children  1338 non-null   int64  \n",
      " 4   smoker    1338 non-null   object \n",
      " 5   region    1338 non-null   object \n",
      " 6   charges   1338 non-null   float64\n",
      "dtypes: float64(2), int64(2), object(3)\n",
      "memory usage: 73.3+ KB\n",
      "--------------------------------------------------\n",
      "               age          bmi     children       charges\n",
      "count  1338.000000  1338.000000  1338.000000   1338.000000\n",
      "mean     39.207025    30.663397     1.094918  13270.422265\n",
      "std      14.049960     6.098187     1.205493  12110.011237\n",
      "min      18.000000    15.960000     0.000000   1121.873900\n",
      "25%      27.000000    26.296250     0.000000   4740.287150\n",
      "50%      39.000000    30.400000     1.000000   9382.033000\n",
      "75%      51.000000    34.693750     2.000000  16639.912515\n",
      "max      64.000000    53.130000     5.000000  63770.428010\n"
     ]
    }
   ],
   "source": [
    "#conferindo os dados do dataset\n",
    "df.info()\n",
    "print('-'*50)\n",
    "print(df.describe())"
   ]
  },
  {
   "cell_type": "markdown",
   "id": "771da87b",
   "metadata": {},
   "source": [
    "##### Primeiro iremos analisar a questao de fumantes e não fumantes no nosso dataset"
   ]
  },
  {
   "cell_type": "code",
   "execution_count": 4,
   "id": "e0001ccc",
   "metadata": {},
   "outputs": [
    {
     "data": {
      "text/plain": [
       "smoker\n",
       "no     0.795217\n",
       "yes    0.204783\n",
       "Name: proportion, dtype: float64"
      ]
     },
     "execution_count": 4,
     "metadata": {},
     "output_type": "execute_result"
    }
   ],
   "source": [
    "#proporção de fumante e não fumantes\n",
    "\n",
    "df['smoker'].value_counts(normalize=True)"
   ]
  },
  {
   "cell_type": "code",
   "execution_count": 5,
   "id": "f941006d",
   "metadata": {},
   "outputs": [
    {
     "data": {
      "image/png": "[encoded data removed]",
      "text/plain": [
       "<Figure size 800x600 with 1 Axes>"
      ]
     },
     "metadata": {},
     "output_type": "display_data"
    }
   ],
   "source": [
    "#plotando grafico de barras sobre numero de fumantes\n",
    "fumantes_counts = df['smoker'].value_counts()\n",
    "\n",
    "plt.figure(figsize=(8,6))\n",
    "\n",
    "plt.bar(\n",
    "    fumantes_counts.index,\n",
    "    fumantes_counts.values,\n",
    "    color=['steelblue']\n",
    ")\n",
    "\n",
    "plt.xlabel('Fumante')\n",
    "plt.ylabel('valor')\n",
    "plt.title('Distribuição de fumantes')\n",
    "\n",
    "plt.gca().spines['top'].set_visible(False)\n",
    "plt.gca().spines['right'].set_visible(False)\n",
    "plt.show()"
   ]
  },
  {
   "cell_type": "markdown",
   "id": "5dc88bce",
   "metadata": {},
   "source": [
    "O número de não fumantes é muito maior do que fumantes no dataset."
   ]
  },
  {
   "cell_type": "code",
   "execution_count": 6,
   "id": "8ac1d1fc",
   "metadata": {},
   "outputs": [
    {
     "data": {
      "text/plain": [
       "smoker\n",
       "no      8434.268298\n",
       "yes    32050.231832\n",
       "Name: charges, dtype: float64"
      ]
     },
     "execution_count": 6,
     "metadata": {},
     "output_type": "execute_result"
    }
   ],
   "source": [
    "#contem difença de cobrança entre fumante e nao fumantes ?\n",
    "\n",
    "df.groupby('smoker')['charges'].mean()"
   ]
  },
  {
   "cell_type": "markdown",
   "id": "119c7a16",
   "metadata": {},
   "source": [
    "analisando a média de valor cobrado para fumante e não fumantes, é notavel que o valor para fumantes é maior."
   ]
  },
  {
   "cell_type": "code",
   "execution_count": 7,
   "id": "44792e17",
   "metadata": {},
   "outputs": [
    {
     "data": {
      "text/plain": [
       "sex     smoker\n",
       "female  no        547\n",
       "        yes       115\n",
       "male    no        517\n",
       "        yes       159\n",
       "Name: count, dtype: int64"
      ]
     },
     "execution_count": 7,
     "metadata": {},
     "output_type": "execute_result"
    }
   ],
   "source": [
    "#conferindo a diferença entre homens e mulheres fumantes e não fumantes\n",
    "df.groupby('sex')['smoker'].value_counts()"
   ]
  },
  {
   "cell_type": "code",
   "execution_count": 8,
   "id": "52c06230",
   "metadata": {},
   "outputs": [
    {
     "data": {
      "image/png": "[encoded data removed]",
      "text/plain": [
       "<Figure size 800x500 with 2 Axes>"
      ]
     },
     "metadata": {},
     "output_type": "display_data"
    }
   ],
   "source": [
    "#plotando graficos de barras sobre nº de fumantes nos sexos masc e fem\n",
    "fem_fumante = df[df['sex']== 'female'].copy()\n",
    "fem_fumante_cont = fem_fumante['smoker'].value_counts()\n",
    "\n",
    "masc_fumante = df[df['sex']== 'male'].copy()\n",
    "masc_fumante_cont = masc_fumante['smoker'].value_counts()\n",
    "\n",
    "fig, axs = plt.subplots(1, 2, figsize=(8, 5))\n",
    "\n",
    "axs[0].bar(\n",
    "    fem_fumante_cont.index,\n",
    "    fem_fumante_cont.values,\n",
    "    color=['lightcoral','indianred']\n",
    ")\n",
    "axs[0].spines['top'].set_visible(False)\n",
    "axs[0].spines['right'].set_visible(False)\n",
    "axs[0].set_xlabel('Status fumante')\n",
    "axs[0].set_ylabel('Contagem')\n",
    "axs[0].set_title('Distribuição de fumantes - Feminino')\n",
    "\n",
    "\n",
    "\n",
    "axs[1].bar(\n",
    "    masc_fumante_cont.index,\n",
    "    masc_fumante_cont.values,\n",
    "    color=['steelblue','cornflowerblue'] \n",
    ")\n",
    "axs[1].spines['top'].set_visible(False)\n",
    "axs[1].spines['right'].set_visible(False)\n",
    "axs[1].set_xlabel('Status fumante')\n",
    "axs[1].set_ylabel('Contagem')\n",
    "axs[1].set_title('Distribuição de fumantes - Masculino')\n",
    "\n",
    "\n",
    "\n",
    "plt.tight_layout()\n",
    "plt.show()\n"
   ]
  },
  {
   "cell_type": "markdown",
   "id": "2edfe003",
   "metadata": {},
   "source": [
    "Os números e o gráfico deixam bem claro que os fumantes tanto do sexo feminino quanto do masculino se parecem, os fumante e não fumantes"
   ]
  },
  {
   "cell_type": "markdown",
   "id": "c7e2d753",
   "metadata": {},
   "source": [
    "Vamos análisar agora a media de cobrança por sexo para saber se os valores cobrados variam de acordo com o sexo"
   ]
  },
  {
   "cell_type": "code",
   "execution_count": 35,
   "id": "01577e5d",
   "metadata": {},
   "outputs": [
    {
     "data": {
      "image/png": "[encoded data removed]",
      "text/plain": [
       "<Figure size 800x600 with 1 Axes>"
      ]
     },
     "metadata": {},
     "output_type": "display_data"
    }
   ],
   "source": [
    "media_cobran_sex =df.groupby('sex')['charges'].mean()\n",
    "\n",
    "fig,ax = plt.subplots(figsize=(8,6))\n",
    "colors = ('lightcoral','steelblue')\n",
    "ax.bar(media_cobran_sex.index,media_cobran_sex.values, color = colors)\n",
    "ax.spines['top'].set_visible(False)\n",
    "ax.spines['right'].set_visible(False)\n",
    "ax.set_ylabel('Média dos valores cobrados')\n",
    "ax.set_xlabel('Sexo')\n",
    "ax.set_title('Média de cobrança por sexo')\n",
    "ax.text(0,media_cobran_sex.values[0],f'{media_cobran_sex.values[0]:.2f}',ha='center',va='bottom',fontsize =12)\n",
    "ax.text(1,media_cobran_sex.values[1],f'{media_cobran_sex.values[1]:.2f}',ha='center',va='bottom',fontsize =12)\n",
    "plt.show()"
   ]
  },
  {
   "cell_type": "code",
   "execution_count": 41,
   "id": "10c9e6b6",
   "metadata": {},
   "outputs": [
    {
     "name": "stdout",
     "output_type": "stream",
     "text": [
      "O valor cobrado para os homens é de 11.04% maior em ralação ao valor cobrado para mulheres\n"
     ]
    }
   ],
   "source": [
    "diferença_percente = (media_cobran_sex['male']-media_cobran_sex['female']) / media_cobran_sex['female'] * 100\n",
    "print(f'O valor cobrado para os homens é de {diferença_percente:.2f}% maior em ralação ao valor cobrado para mulheres')"
   ]
  },
  {
   "cell_type": "code",
   "execution_count": null,
   "id": "746af719",
   "metadata": {},
   "outputs": [],
   "source": []
  }
 ],
 "metadata": {
  "kernelspec": {
   "display_name": "Python 3",
   "language": "python",
   "name": "python3"
  },
  "language_info": {
   "codemirror_mode": {
    "name": "ipython",
    "version": 3
   },
   "file_extension": ".py",
   "mimetype": "text/x-python",
   "name": "python",
   "nbconvert_exporter": "python",
   "pygments_lexer": "ipython3",
   "version": "3.13.3"
  }
 },
 "nbformat": 4,
 "nbformat_minor": 5
}
